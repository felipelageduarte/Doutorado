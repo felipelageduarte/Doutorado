{
 "cells": [
  {
   "cell_type": "code",
   "execution_count": 2,
   "metadata": {
    "collapsed": false
   },
   "outputs": [],
   "source": [
    "require(TSDecomposition)\n",
    "require(foreach)\n",
    "require(parallel)\n",
    "require(doMC)\n",
    "require(compiler)\n",
    "require(Rssa)\n",
    "require(FNN)\n",
    "\n",
    "source('utils.r')"
   ]
  },
  {
   "cell_type": "code",
   "execution_count": 3,
   "metadata": {
    "collapsed": false
   },
   "outputs": [],
   "source": [
    "setCompilerOptions(suppressUndefined=TRUE)\n",
    "null=compilePKGS(enable=TRUE)\n",
    "null=enableJIT(3)\n",
    "setCompilerOptions(optimize=3)\n",
    "cores = detectCores(all.tests = FALSE, logical = TRUE)"
   ]
  },
  {
   "cell_type": "code",
   "execution_count": 4,
   "metadata": {
    "collapsed": true
   },
   "outputs": [],
   "source": [
    "seriesFolder = 'data'\n",
    "modelFolder  = 'model'\n",
    "resultFolder = 'testResult'"
   ]
  },
  {
   "cell_type": "code",
   "execution_count": 5,
   "metadata": {
    "collapsed": false
   },
   "outputs": [],
   "source": [
    "#select all series file in the data folder\n",
    "seriesFile = list.files(path = seriesFolder, pattern = NULL, all.files = FALSE, full.names = TRUE, recursive = FALSE)"
   ]
  },
  {
   "cell_type": "markdown",
   "metadata": {},
   "source": [
    "---\n",
    "Fourier Decompostion\n",
    "===\n",
    "\n",
    "Computes the Discrete Fourier Transform (DFT) of an array with a fast algorithm, the “Fast Fourier Transform” (FFT). Uses C translation of Fortran code in Singleton (1979).\n",
    "\n",
    "When z is a vector, the value computed and returned by fft is the unnormalized univariate discrete Fourier transform of the sequence of values in z. Specifically, y <- fft(z) returns\n",
    "\n",
    "$$y[h] = \\sum_{k=1}^n z[k]*exp{(\\frac{-2*\\pi*1i*(k-1)*(h-1)}{n})}$$\n",
    "\n",
    "for $h = 1, ..., n$ where $n = length(y)$. If inverse is TRUE, $exp(-2*pi...)$ is replaced with $exp(2*pi...)$. When z contains an array, fft computes and returns the multivariate (spatial) transform. If inverse is TRUE, the (unnormalized) inverse Fourier transform is returned, i.e., if y <- fft(z), then z is fft(y, inverse = TRUE) / length(y). By contrast, mvfft takes a real or complex matrix as argument, and returns a similar shaped matrix, but with each column replaced by its discrete Fourier transform. This is useful for analyzing vector-valued series. The FFT is fastest when the length of the series being transformed is highly composite (i.e., has many factors). If this is not the case, the transform may take a long time to compute and will use a large amount of memory.\n",
    "\n",
    "**References**\n",
    "\n",
    "Becker, R. A., Chambers, J. M. and Wilks, A. R. (1988) The New S Language. Wadsworth & Brooks/Cole.\n",
    "\n",
    "Singleton, R. C. (1979) Mixed Radix Fast Fourier Transforms, in Programs for Digital Signal Processing, IEEE Digital Signal Processing Committee eds. IEEE Press.\n",
    "\n",
    "Cooley, James W., and Tukey, John W. (1965) An algorithm for the machine calculation of complex Fourier series, Math. Comput. 19(90), 297–301. https://dx.doi.org/10.1090/S0025-5718-1965-0178586-1"
   ]
  },
  {
   "cell_type": "code",
   "execution_count": 9,
   "metadata": {
    "collapsed": true
   },
   "outputs": [],
   "source": [
    "fourierDec <- function(seriesObj, par){\n",
    "\n",
    "    freq.cutoff = unlist(par[1])\n",
    "    series      = seriesObj$series\n",
    "\n",
    "    freq.cutoff = freq.cutoff\n",
    "    coeffs = fft(series)\n",
    "    mags   = coeffs[1:(length(coeffs)/2)]\n",
    "    mags   = 1+sqrt(Re(mags)^2+Im(mags)^2)\n",
    "    o.idx  = order(mags, decreasing = T)\n",
    "    idx    = (1:length(mags))[-o.idx[1:freq.cutoff]]\n",
    "        \n",
    "    coeffs[idx] = complex(real=0, imaginary=0)\n",
    "    coeffs[length(coeffs) - idx + 1] = complex(real=0, imaginary=0)\n",
    "    det = Re(fft(coeffs, inverse=T)) / length(series)\n",
    "    \n",
    "    return(det)\n",
    "}"
   ]
  },
  {
   "cell_type": "code",
   "execution_count": 10,
   "metadata": {
    "collapsed": true
   },
   "outputs": [],
   "source": [
    "#all combination of possible parameters for Fourier Algorithm\n",
    "params = expand.grid(\n",
    "  cutoff = 1:500,\n",
    "  stringsAsFactors = FALSE\n",
    ")"
   ]
  },
  {
   "cell_type": "code",
   "execution_count": 11,
   "metadata": {
    "collapsed": false
   },
   "outputs": [],
   "source": [
    "resultTable = gridSearch(fourierDec, params, seriesFile, 'Fourier', cores)"
   ]
  },
  {
   "cell_type": "code",
   "execution_count": 12,
   "metadata": {
    "collapsed": false
   },
   "outputs": [],
   "source": [
    "write.csv(resultTable, file=paste(resultFolder,'/fourier.csv', sep=''), row.names=FALSE)"
   ]
  },
  {
   "cell_type": "markdown",
   "metadata": {
    "collapsed": true
   },
   "source": [
    "---\n",
    "Wavelets Decompostion\n",
    "==="
   ]
  },
  {
   "cell_type": "markdown",
   "metadata": {},
   "source": [
    "| Parameter |                                                                                                                                                                                                                                                                                                       |\n",
    "|-----------|-------------------------------------------------------------------------------------------------------------------------------------------------------------------------------------------------------------------------------------------------------------------------------------------------------|\n",
    "|  filters  | Either a wt.filter object, a character string indicating which wavelet filter to use in the decomposition, or a numeric vector of wavelet coefficients (not scaling coefficients). See above for acceptable filter names.                                                                   |\n",
    "|  n.levels | An integer specifying the level of the decomposition. By default this is the value J such that the length of the series is at least as great as the length of the level J wavelet filter, but less than the length of the level J+1 wavelet filter. Thus, j <= log((N-1)/(L-1)+1), where N is the length of the series. |\n",
    "|  boundary | A character string indicating which boundary method to use. boundary = \"periodic\" and boundary = \"reflection\" are the only supported methods at this time.                                                                                                                                            |\n",
    "\n",
    "\n",
    "**Filter Details**\n",
    "\n",
    "The character strings currently supported are derived from one of four classes of wavelet transform filters: Daubechies, Least Asymetric, Best Localized and Coiflet. The prefixes for filters of these classes are d, la, bl and c, respectively. Following the prefix, the filter name consists of an integer indicating length. Supported lengths are as follows:\n",
    "\n",
    "* Daubechies: 2,4,6,8,10,12,14,16,18,20.\n",
    "* Least Asymetric: 8,10,12,14,16,18,20.\n",
    "* Best Localized: 14,18,20.\n",
    "* Coiflet: 6,12,18,24,30.\n",
    "\n",
    "Thus, to obtain the Daubechies wavelet transform filter of length 4, the character string \"d4\" can be passed to wt.filter. \n",
    "\n",
    "This naming convention has one exception: the Daubechies wavelet transform filter of length 2 is denoted by haar instead of d2."
   ]
  },
  {
   "cell_type": "code",
   "execution_count": 13,
   "metadata": {
    "collapsed": true
   },
   "outputs": [],
   "source": [
    "waveletDec.script <- function(seriesObj, par){\n",
    "\n",
    "    filter   = unlist(par[1])\n",
    "    n.levels = unlist(par[2])\n",
    "    boundary = unlist(par[3])\n",
    "    series   = seriesObj$series\n",
    "\n",
    "    r.wavelet = wavelets::dwt(series,\n",
    "                            filter = filter,\n",
    "                            n.levels=n.levels,\n",
    "                            boundary=boundary,\n",
    "                            fast=TRUE)\n",
    "    for (i in 1:length(r.wavelet@W)) {\n",
    "        r.wavelet@W[[i]] = cbind(rep(0, length(r.wavelet@W[[i]])))\n",
    "    }\n",
    "    det = wavelets::idwt(r.wavelet)\n",
    "    return(det)\n",
    "}\n",
    "waveletDec = cmpfun(waveletDec.script)"
   ]
  },
  {
   "cell_type": "code",
   "execution_count": 14,
   "metadata": {
    "collapsed": true
   },
   "outputs": [],
   "source": [
    "#all combination of possible parameters for wavelets Algorithm\n",
    "params = expand.grid(\n",
    "  filters = c(\"haar\", \"d4\", \"d6\", \"d8\", \"d10\", \"d12\", \"d14\", \"d16\", \"d18\", \"d20\",#Daubechies\n",
    "              \"la8\", \"la10\", \"la12\", \"la14\", \"la16\", \"la18\", \"la20\", #Least Asymetric\n",
    "              \"bl14\", \"bl18\", \"bl20\", #Best Localized\n",
    "              \"c6\", \"c12\", \"c18\", \"c24\", \"c30\"), #Coiflet\n",
    "  n.levels = 1:50,\n",
    "  boundarys = c(\"periodic\",\"reflection\"),\n",
    "  stringsAsFactors = FALSE\n",
    ")"
   ]
  },
  {
   "cell_type": "code",
   "execution_count": 15,
   "metadata": {
    "collapsed": false
   },
   "outputs": [],
   "source": [
    "resultTable = gridSearch(waveletDec, params, seriesFile, 'Wavelets', cores)"
   ]
  },
  {
   "cell_type": "code",
   "execution_count": 16,
   "metadata": {
    "collapsed": true
   },
   "outputs": [],
   "source": [
    "write.csv(resultTable, file=paste(resultFolder,'/wavelets.csv', sep=''))"
   ]
  },
  {
   "cell_type": "markdown",
   "metadata": {},
   "source": [
    "---\n",
    "SSA Decomposition\n",
    "==="
   ]
  },
  {
   "cell_type": "markdown",
   "metadata": {},
   "source": [
    "| Parameter |                                                                                                                                                                                                                                                                    |\n",
    "|-----------|--------------------------------------------------------------------------------------------------------------------------------------------------------------------------------------------------------------------------------------------------------------------|\n",
    "|     L     | integer, window length. Fixed to half of the series length by default. Should be vector of length 2 for 2d SSA                                                                                                                                                     |\n",
    "|    neig   | integer, number of desired eigentriples. If 'NULL', then sane default value will be used, see 'Details'                                                                                                                                                            |\n",
    "|    kind   | SSA method. This includes ordinary 1d SSA, 2d SSA, Toeplitz variant of 1d SSA, multichannel variant of SSA and complex SSA                                                                                                                                         |\n",
    "| circular  | logical vector of one or two elements, describes series topology for 1d SSA and Toeplitz SSA or field topology for 2d SSA. 'TRUE' means series circularity for 1d case or circularity by a corresponding coordinate for 2d case. See (Shlemov, 2014) for more info |\n",
    "\n",
    "**Variants of SSA**\n",
    "\n",
    "The following implementations of the SSA method are supported (corresponds to different values of kind argument):\n",
    "\n",
    "* **1d-ssa**: Basic 1d SSA as described in Chapter 1 of (Golyandina et al, 2001). This is also known as Broomhead-King variant of SSA or BK-SSA, see (Broomhead and King, 1986).\n",
    "* **toeplitz-ssa**: Toeplitz variant of 1d SSA. See Section 1.7.2 in (Golyandina et al, 2001). This is also knows as Vatuard-Gill variant of SSA or VG-SSA for analysis of stationary time series, see (Vautard and Ghil, 1989).\n",
    "* **mssa**: Multichannel SSA for simultaneous decomposition of several time series (possible of unequal length). See (Golyandina and Stepanov, 2005).\n",
    "* **cssa**: Complex variant of 1d SSA.\n",
    "* **2d-ssa**: 2d SSA for decomposition of images and arrays. See (Golyandina and Usevich, 2009, and Golyandina et.al, 2015) for more information.\n",
    "* **nd-ssa**: Multidimensional SSA decomposition for arrays (tensors).\n",
    "\n",
    "**References**\n",
    "\n",
    "Broomhead, D.S., and King, G.P. (1986a): Extracting qualitative dynamics from experimental data, Physica D, 20, 217–236.\n",
    "\n",
    "Vautard, R., and Ghil, M. (1989): Singular spectrum analysis in nonlinear dynamics, with applications to paleoclimatic time series, Physica D, 35, 395–424.\n",
    "\n",
    "Golyandina, N., Nekrutkin, V. and Zhigljavsky, A. (2001): Analysis of Time Series Structure: SSA and related techniques. Chapman and Hall/CRC. ISBN 1584881941\n",
    "\n",
    "Golyandina, N. and Stepanov, D. (2005): SSA-based approaches to analysis and forecast of multidimensional time series. In Proceedings of the 5th St.Petersburg Workshop on Simulation, June 26-July 2, 2005, St. Petersburg State University, St. Petersburg, 293–298. http://www.gistatgroup.com/gus/mssa2.pdf\n",
    "\n",
    "Golyandina, N. and Usevich, K. (2009): 2D-extensions of singular spectrum analysis: algorithm and elements of theory. In Matrix Methods: Theory, Algorithms, Applications. World Scientific Publishing, 450-474."
   ]
  },
  {
   "cell_type": "code",
   "execution_count": 17,
   "metadata": {
    "collapsed": true
   },
   "outputs": [],
   "source": [
    "ssaDec.script <- function(seriesObj, par){\n",
    "\n",
    "    L        = unlist(par[1])\n",
    "    neig     = unlist(par[2])\n",
    "    kind     = unlist(par[3])\n",
    "    circular = unlist(par[4])\n",
    "    series   = seriesObj$series\n",
    "\n",
    "    #execute\n",
    "    s = ssa(series, L=L, neig=neig, kind=kind, circular=circular)\n",
    "    r = reconstruct(s, groups = seq(1:(L/2)))\n",
    "\n",
    "    #mutual information to separate deterministic components\n",
    "    mi = c()\n",
    "    for(i in 1:(length(r)-1)) \n",
    "        mi = c(mi, FNN::mutinfo(r[[i]], r[[i+1]]))\n",
    "    \n",
    "    det.idx = which.max(abs(diff(mi))) + 1\n",
    "    \n",
    "    #sum det. comp.\n",
    "    detComp = rep(0, length(r[[1]]))\n",
    "    for(i in 1:det.idx) \n",
    "        detComp = detComp + r[[i]]\n",
    "\n",
    "    return(detComp)\n",
    "}\n",
    "ssaDec = cmpfun(ssaDec.script)"
   ]
  },
  {
   "cell_type": "code",
   "execution_count": 18,
   "metadata": {
    "collapsed": false
   },
   "outputs": [],
   "source": [
    "#all combination of possible parameters for wavelets Algorithm\n",
    "params = expand.grid(\n",
    "  L = 1:50,\n",
    "  neig = 1:50,\n",
    "  kind = c('1d-ssa', 'toeplitz-ssa', 'mssa', 'cssa', 'cssa', '2d-ssa', 'nd-ssa'),\n",
    "  circular = c(TRUE, FALSE),\n",
    "  stringsAsFactors = FALSE\n",
    ")"
   ]
  },
  {
   "cell_type": "code",
   "execution_count": 19,
   "metadata": {
    "collapsed": false
   },
   "outputs": [],
   "source": [
    "resultTable = gridSearch(ssaDec, params, seriesFile, 'SSA', cores)"
   ]
  },
  {
   "cell_type": "code",
   "execution_count": 20,
   "metadata": {
    "collapsed": true
   },
   "outputs": [],
   "source": [
    "write.csv(resultTable, file=paste(resultFolder,'/ssa.csv', sep=''))"
   ]
  },
  {
   "cell_type": "markdown",
   "metadata": {},
   "source": [
    "---\n",
    "EMD-RP Decomposition\n",
    "===\n",
    "\n",
    "Function used to decompose a time series into 2 components: one stochastic and another deterministic. This function uses Empirical Mode Decomposition and Recurrence Plot functions. For more details about this method see: (Rios and Mello, 2013) For more details about RP: (Eckmann et al., 1987; Marwan et al., 2007) For more detail about EMD: (Huang et al., 1998)\n",
    "\n",
    "| Parameter |                                                                      |\n",
    "|-----------|----------------------------------------------------------------------|\n",
    "|  detlevel | determinism threshold [0,1]                                          |\n",
    "|   thresh  | epsilon chosen to determine the recurrent points - estimated if null |\n",
    "|   delay   | delay dimension (phase space) - estimated if null                    |\n",
    "| embedded  | embedded dimension (phase space) - estimated if null                 |\n",
    "\n",
    "**References**\n",
    "\n",
    "Ricardo Araújo Rios, Rodrigo Fernandes de Mello (2013): Improving time series modeling by decomposing and analyzing stochastic and deterministic influences, Signal Processing, Volume 93, Issue 11, November 2013, Pages 3001-3013, ISSN 0165-1684, http://dx.doi.org/10.1016/j.sigpro.2013.04.017.\n",
    "\n",
    "Norden E. Huang, Zheng Shen, Steven R. Long, Manli C. Wu, Hsing H. Shih, Quanan Zheng, Nai-Chyuan Yen, Chi Chao Tung, Henry H. Liu (1998): The empirical mode decomposition and the Hilbert spectrum for nonlinear and non-stationary time series analysis - Proc. R. Soc. Lond. A 1998 454 903-995; DOI: 10.1098/rspa.1998.0193. Published 8 March 1998"
   ]
  },
  {
   "cell_type": "code",
   "execution_count": 21,
   "metadata": {
    "collapsed": true
   },
   "outputs": [],
   "source": [
    "emdrpDec   <- function(seriesObj, params){\n",
    "  detlevel = unlist(params[1])\n",
    "  thresh   = unlist(params[2])\n",
    "  delay    = seriesObj$det.sepDim + unlist(params[3])\n",
    "  embedded = seriesObj$det.embDim + unlist(params[4])\n",
    "  series   = seriesObj$series\n",
    "  emdrp    = rpemdDecomposition(series, detlevel, thresh, delay, embedded)\n",
    "  return(emdrp@deterministic)\n",
    "}"
   ]
  },
  {
   "cell_type": "code",
   "execution_count": 5,
   "metadata": {
    "collapsed": false
   },
   "outputs": [
    {
     "data": {
      "text/html": [
       "245025"
      ],
      "text/latex": [
       "245025"
      ],
      "text/markdown": [
       "245025"
      ],
      "text/plain": [
       "[1] 245025"
      ]
     },
     "metadata": {},
     "output_type": "display_data"
    }
   ],
   "source": [
    "params = expand.grid(\n",
    "  detlevel = seq(0.01, 0.99, by=0.01),\n",
    "  thresh   = seq(0.01, 0.99, by=0.01),\n",
    "  delay    = 0:4,\n",
    "  embedded = 0:4,\n",
    "  stringsAsFactors = FALSE\n",
    ")\n",
    "nrow(params)"
   ]
  },
  {
   "cell_type": "code",
   "execution_count": null,
   "metadata": {
    "collapsed": false
   },
   "outputs": [],
   "source": [
    "resultTable = gridSearch(emdrpDec, params, seriesFile, 'EMDRP', cores)"
   ]
  },
  {
   "cell_type": "code",
   "execution_count": null,
   "metadata": {
    "collapsed": true
   },
   "outputs": [],
   "source": [
    "write.csv(resultTable, file=paste(resultFolder,'/emdrp.csv', sep=''))"
   ]
  },
  {
   "cell_type": "markdown",
   "metadata": {},
   "source": [
    "---\n",
    "EMD-MI Decomposition\n",
    "===\n",
    "\n",
    "Ricardo Araújo Rios, Rodrigo Fernandes de Mello(2016): Applying Empirical Mode Decomposition and mutual information to separate stochastic and deterministic influences embedded in signals, Signal Processing, Volume 118, January 2016, Pages 159-176, ISSN 0165-1684, http://dx.doi.org/10.1016/j.sigpro.2015.07.003."
   ]
  },
  {
   "cell_type": "code",
   "execution_count": 31,
   "metadata": {
    "collapsed": true
   },
   "outputs": [],
   "source": [
    "emdmiDec <- function(seriesObj, par){\n",
    "    series = seriesObj$series\n",
    "    r.emd  = emd(series)\n",
    "    mags   = c();\n",
    "    for(i in 1 : r.emd$nimf){\n",
    "        fft  = fft(r.emd$imf[,i])\n",
    "        mags = cbind(mags,atan(Im(fft)/Re(fft)))\n",
    "    }\n",
    "    fft  = fft(r.emd$residue)\n",
    "    mags = cbind(mags,atan(Im(fft)/Re(fft)))\n",
    "\n",
    "    mi = c()\n",
    "    for(i in 1 : r.emd$nimf){\n",
    "        mi = c(mi, FNN::mutinfo(mags[,i], mags[,i+1]))\n",
    "    }\n",
    "\n",
    "    l   = which.max(abs(diff(mi))) + 1\n",
    "    idx = l:r.emd$nimf\n",
    "    det = ifelse(length(idx) != 1, rowSums(r.emd$imf[,idx]), r.emd$imf[,idx]) + r.emd$residue\n",
    "    return(det)\n",
    "}"
   ]
  },
  {
   "cell_type": "code",
   "execution_count": 32,
   "metadata": {
    "collapsed": false
   },
   "outputs": [],
   "source": [
    "params = expand.grid(none = TRUE)"
   ]
  },
  {
   "cell_type": "code",
   "execution_count": 33,
   "metadata": {
    "collapsed": false
   },
   "outputs": [],
   "source": [
    "resultTable = gridSearch(emdmiDec, params, seriesFile, 'EMDMI', cores)"
   ]
  },
  {
   "cell_type": "code",
   "execution_count": 34,
   "metadata": {
    "collapsed": true
   },
   "outputs": [],
   "source": [
    "write.csv(resultTable, file=paste(resultFolder,'/emdmi.csv', sep=''))"
   ]
  },
  {
   "cell_type": "markdown",
   "metadata": {},
   "source": [
    "---\n",
    "ForceDec\n",
    "===\n",
    "\n",
    "| Parameter |                                                                                                                                                                                                                       |\n",
    "|-----------|-----------------------------------------------------------------------------------------------------------------------------------------------------------------------------------------------------------------------|\n",
    "|     k     | number of nearest neighbor to be considered                                                                                                                                                                           |\n",
    "|   num.it  | maximum number of iteration                                                                                                                                                                                           |\n",
    "|  epsilon  | minimum average displacement used to early stop ForceDec. The premise used here is that once the state movimentation stops, the atractor converged to the topology of the deterministic component in the phase-space. |\n",
    "|   delta   | the percentage of the i-th iteration position will be preserved for each state in the phase-space                                                                                                                     |\n",
    "|   delay   | delay dimension used to emerge the time series in the phase space.                                                                                                                                                    |\n",
    "|  embedded | embedded dimension used to emerge the time series in the phase space.                                                                                                                                                 |\n",
    "\n",
    "For evaluate all ForceDec possibility we set up epsilon (which is used to stop the algorithm iterations based on the displacement) with small number so we can reach a high number of iterations. Also, we modified the algorithm to calculate the MDA and MDDL after each iteration. This modification was done inded to accelarate the test once restart the algorithm to recalculate the metrics for diferent iteration number is a unecessary computational effort.\n",
    "\n",
    "The original code without modification to tune test is following:\n",
    "\n",
    "```R\n",
    "forceDec   <- function(seriesObj, params){\n",
    "  k        = params[1]\n",
    "  num.it   = params[2]\n",
    "  epsilon  = params[3]\n",
    "  delta    = params[4]\n",
    "  delay    = seriesObj$det.sepDim + params[5]\n",
    "  embedded = seriesObj$det.embDim + params[6]\n",
    "  series   = seriesObj$series\n",
    "\n",
    "  s.emb = embedd(series, m=embedded, d=delay)\n",
    "  pos.i = s.emb\n",
    "  nn = get.knn(s.emb, k=k+1)$nn.index #search for k-nearest neighbor\n",
    "  nn = cbind(1:nrow(nn), nn) #place itself as a neighbor\n",
    "  norm.simil = c()\n",
    "  for (i in 1:nrow(nn)){\n",
    "      neigh.pos  = s.emb[nn[i,],]\n",
    "      neigh.dist = as.matrix(dist(neigh.pos))[1,]\n",
    "      neigh.dist[which(neigh.dist < epsilon)] = 0\n",
    "      similarity = 1 - neigh.dist/(max(neigh.dist)+epsilon)\n",
    "      similarity[which(similarity < epsilon)] = 0\n",
    "      norm.simil = rbind(norm.simil, similarity[-1]/(sum(similarity[-1])))\n",
    "  }\n",
    "\n",
    "  disp.vec = c()\n",
    "  it = -1\n",
    "  for(it in 1:num.it){ #this loop can be done parallel to accelerate processing\n",
    "    disp = 0\n",
    "    for (i in 1:nrow(nn)){\n",
    "      neigh.pos  = s.emb[nn[i,],]\n",
    "      pos.i[i,]  = ((  delta   * neigh.pos[1,])\n",
    "                 + ((1-delta)  * colSums(neigh.pos[-1,]*norm.simil[i,])))\n",
    "      disp = disp + dist(rbind(pos.i[i,], s.emb[i,]))\n",
    "    }\n",
    "    disp = disp/nrow(nn)\n",
    "    disp.vec = c(disp.vec, disp)\n",
    "    if(disp <= epsilon) break;\n",
    "    s.emb = pos.i\n",
    "  }\n",
    "\n",
    "  return(list(series=s.emb[,1], num.it=it))\n",
    "}\n",
    "```"
   ]
  },
  {
   "cell_type": "code",
   "execution_count": 6,
   "metadata": {
    "collapsed": true
   },
   "outputs": [],
   "source": [
    "forceDec   <- function(seriesObj, par, test.execution=TRUE, detComp=NULL){\n",
    "    k        = unlist(par[1])\n",
    "    num.it   = unlist(par[2])\n",
    "    epsilon  = unlist(par[3])\n",
    "    delta    = unlist(par[4])\n",
    "    delay    = unlist(seriesObj$det.sepDim + par[5])\n",
    "    embedded = unlist(seriesObj$det.embDim + par[6])\n",
    "    series   = unlist(seriesObj$series)\n",
    "\n",
    "    mddl.results = c()\n",
    "    mda.results = c()\n",
    "\n",
    "    s.emb = embedd(seriesObj$series, m=embedded, d=delay)\n",
    "    pos.i = s.emb\n",
    "    nn = get.knn(s.emb, k=k+1)$nn.index #search for k-nearest neighbor\n",
    "    nn = cbind(1:nrow(nn), nn) #place itself as a neighbor\n",
    "    norm.simil = c()\n",
    "    for (i in 1:nrow(nn)){\n",
    "        neigh.pos  = s.emb[nn[i,],]\n",
    "        neigh.dist = as.matrix(dist(neigh.pos))[1,]\n",
    "        neigh.dist[which(neigh.dist < epsilon)] = 0\n",
    "        similarity = 1 - neigh.dist/(max(neigh.dist)+epsilon)\n",
    "        similarity[which(similarity < epsilon)] = 0\n",
    "        norm.simil = rbind(norm.simil, similarity[-1]/(sum(similarity[-1])))\n",
    "    }\n",
    "\n",
    "    disp.vec = c()\n",
    "    it = -1\n",
    "    #this loop can be done parallel to accelerate processing\n",
    "    for(it in 1:num.it){ \n",
    "        disp = 0\n",
    "        for (i in 1:nrow(nn)){\n",
    "            neigh.pos  = s.emb[nn[i,],]\n",
    "            pos.i[i,]  = ((  delta   * neigh.pos[1,])\n",
    "                       + ((1-delta)  * colSums(neigh.pos[-1,]*norm.simil[i,])))\n",
    "            disp = disp + dist(rbind(pos.i[i,], s.emb[i,]))\n",
    "        }\n",
    "        disp = disp/nrow(nn)\n",
    "        disp.vec = c(disp.vec, disp)\n",
    "        #if(disp <= epsilon) break;\n",
    "        s.emb = pos.i\n",
    "\n",
    "        #--------------------------------------------------------------\n",
    "        # This evaluation is running embedded in the forceDec function\n",
    "        # in order to accelerate the test, indeed this code does not\n",
    "        # belong to this function and must not be implemented in real\n",
    "        # scenarios\n",
    "        #--------------------------------------------------------------\n",
    "        if(test.execution){\n",
    "            mddl.r = mddl(seriesObj$det.series, s.emb[,1])\n",
    "            mda.r  = mda (seriesObj$det.series, s.emb[,1], delay, embedded)\n",
    "\n",
    "            mddl.results = c(mddl.results, mddl.r)\n",
    "            mda.results  = c(mda.results,  mda.r)\n",
    "        }\n",
    "        #--------------------------------------------------------------\n",
    "        # Evaluation code end.\n",
    "        #--------------------------------------------------------------\n",
    "    }\n",
    "\n",
    "    return(list(mda = mda.results, mddl = mddl.results))\n",
    "}"
   ]
  },
  {
   "cell_type": "code",
   "execution_count": 7,
   "metadata": {
    "collapsed": false
   },
   "outputs": [
    {
     "data": {
      "text/html": [
       "8925"
      ],
      "text/latex": [
       "8925"
      ],
      "text/markdown": [
       "8925"
      ],
      "text/plain": [
       "[1] 8925"
      ]
     },
     "metadata": {},
     "output_type": "display_data"
    }
   ],
   "source": [
    "params = expand.grid(\n",
    "  k = c(2:10,15,20,25,30,25,40,45,50),\n",
    "  num.it = 30,\n",
    "  epsilon = 10^-6,\n",
    "  delta = c(0.01, seq(0.05, 1, by=0.05)),\n",
    "  delay = 0:4,\n",
    "  embedded = 0:4\n",
    ")\n",
    "nrow(params)"
   ]
  },
  {
   "cell_type": "code",
   "execution_count": null,
   "metadata": {
    "collapsed": false
   },
   "outputs": [],
   "source": [
    "resultTable = gridSearch(forceDec, params, seriesFile, 'ForceDec', cores)"
   ]
  },
  {
   "cell_type": "code",
   "execution_count": 25,
   "metadata": {
    "collapsed": true
   },
   "outputs": [],
   "source": [
    "write.csv(resultTable, file=paste(resultFolder,'/emdrp.csv', sep=''))"
   ]
  },
  {
   "cell_type": "code",
   "execution_count": null,
   "metadata": {
    "collapsed": true
   },
   "outputs": [],
   "source": []
  }
 ],
 "metadata": {
  "anaconda-cloud": {},
  "kernelspec": {
   "display_name": "R",
   "language": "R",
   "name": "ir"
  },
  "language_info": {
   "codemirror_mode": "r",
   "file_extension": ".r",
   "mimetype": "text/x-r-source",
   "name": "R",
   "pygments_lexer": "r",
   "version": "3.3.2"
  }
 },
 "nbformat": 4,
 "nbformat_minor": 2
}
