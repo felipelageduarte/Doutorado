{
 "cells": [
  {
   "cell_type": "code",
   "execution_count": 13,
   "metadata": {
    "collapsed": false
   },
   "outputs": [],
   "source": [
    "require(TSDecomposition)\n",
    "require(foreach)\n",
    "require(parallel)\n",
    "require(doMC)\n",
    "require(compiler)\n",
    "require(Rssa)"
   ]
  },
  {
   "cell_type": "code",
   "execution_count": 14,
   "metadata": {
    "collapsed": false
   },
   "outputs": [],
   "source": [
    "setCompilerOptions(suppressUndefined=TRUE)\n",
    "null=compilePKGS(enable=TRUE)\n",
    "null=enableJIT(3)\n",
    "setCompilerOptions(optimize=3)\n",
    "cores = detectCores(all.tests = FALSE, logical = TRUE)"
   ]
  },
  {
   "cell_type": "code",
   "execution_count": 15,
   "metadata": {
    "collapsed": true
   },
   "outputs": [],
   "source": [
    "seriesFolder = 'data'\n",
    "modelFolder  = 'model'\n",
    "resultFolder = 'testResult'"
   ]
  },
  {
   "cell_type": "code",
   "execution_count": 16,
   "metadata": {
    "collapsed": false
   },
   "outputs": [],
   "source": [
    "#select all series file in the data folder\n",
    "seriesFile = list.files(path = seriesFolder, pattern = NULL, all.files = FALSE, full.names = TRUE, recursive = FALSE)"
   ]
  },
  {
   "cell_type": "markdown",
   "metadata": {},
   "source": [
    "---\n",
    "Grid Search Functions\n",
    "==="
   ]
  },
  {
   "cell_type": "code",
   "execution_count": 17,
   "metadata": {
    "collapsed": true
   },
   "outputs": [],
   "source": [
    "mddl <-function(det.original, det.result){\n",
    "    s1 = det.original\n",
    "    s2 = det.result\n",
    "\n",
    "    if(length(s1) > length(s2)){\n",
    "        s.aux = s1\n",
    "        s1 = s2\n",
    "        s2 = s.aux\n",
    "    }\n",
    "\n",
    "    n.elem = length(s1)\n",
    "    delta = length(s2) - length(s1)\n",
    "\n",
    "    mddl = Inf\n",
    "    for(i in 0:delta){\n",
    "        d1     = s1\n",
    "        d2     = s2[(1+i):(n.elem+i)]\n",
    "        mddl = min(mddl, TSDecomposition::mddl(d1, d2, plot=FALSE))\n",
    "    }\n",
    "    return(mddl)\n",
    "}"
   ]
  },
  {
   "cell_type": "code",
   "execution_count": 18,
   "metadata": {
    "collapsed": true
   },
   "outputs": [],
   "source": [
    "mda <- function(det.original, det.result, m, d){\n",
    "    at1 = embedd(det.original, m=m, d=d)\n",
    "    at2 = embedd(det.result, m=m, d=d)\n",
    "\n",
    "    if(nrow(at1) > nrow(at2)){\n",
    "        at.aux = at1\n",
    "        at1 = at2\n",
    "        at2 = at.aux\n",
    "    }\n",
    "\n",
    "    n.elem = nrow(at1)\n",
    "    delta = nrow(at2) - nrow(at1)\n",
    "\n",
    "    mda = Inf\n",
    "    for(i in 0:delta){\n",
    "        d1     = at1\n",
    "        d2     = at2[(1+i):(n.elem+i),]\n",
    "        p.dist = pdist::pdist(d1,d2)\n",
    "        mda    = min(mda, mean(diag(matrix(p.dist@dist, nrow=n.elem, ncol=n.elem))))\n",
    "    }\n",
    "\n",
    "    return(mda)\n",
    "}"
   ]
  },
  {
   "cell_type": "code",
   "execution_count": 23,
   "metadata": {
    "collapsed": false
   },
   "outputs": [],
   "source": [
    "gridSearch.script <- function(F, params, seriesFile, tech.name, cores = 1){\n",
    "\n",
    "    registerDoMC(cores)\n",
    "\n",
    "    resultTable = foreach(i=1:length(seriesFile), .combine='rbind') %dopar% {\n",
    "        s = seriesFile[i]\n",
    "        resultTable.aux = matrix(ncol=6, nrow = 0)\n",
    "\n",
    "        #load series from RData file\n",
    "        load(s)\n",
    "\n",
    "        mddl.results = c()\n",
    "        mda.results = c()\n",
    "\n",
    "        for(p in 1:nrow(params)){\n",
    "\n",
    "            pred.det = c()\n",
    "\n",
    "            #apply model on the time series\n",
    "            tryCatch({\n",
    "                pred.det = F(seriesObj, params[p,])\n",
    "            }, warning = function(w){\n",
    "            }, error = function(e){\n",
    "            }, finally = {\n",
    "            })\n",
    "\n",
    "            if(is.null(pred.det)) next \n",
    "\n",
    "            #evaluate the result\n",
    "            mddl.r = mddl(seriesObj$det.series, pred.det)\n",
    "            mda.r  = mda (seriesObj$det.series, pred.det, seriesObj$det.embDim, seriesObj$det.sepDim)\n",
    "\n",
    "            mddl.results = c(mddl.results, mddl.r)\n",
    "            mda.results  = c(mda.results,  mda.r)\n",
    "\n",
    "            resultTable.aux  = rbind(resultTable.aux, \n",
    "                                     c(p, tech.name, paste(params[p,],collapse=\",\"), s, mddl.r, mda.r)\n",
    "                                    )\n",
    "        }\n",
    "\n",
    "        #normalize results and calculate L2-norm\n",
    "        l2n.results      = sqrt((mddl.results/max(mddl.results))^2 + (mda.results/max(mda.results))^2)\n",
    "        best.result.idx  = which.min(l2n.results)\n",
    "        model = list( model.name   = tech.name,\n",
    "                      F            = F,\n",
    "                      best.params  = params[best.result.idx,],\n",
    "                      mda          = mda.results[best.result.idx],\n",
    "                      mddl         = mddl.results[best.result.idx]\n",
    "                    )\n",
    "\n",
    "        save(model, file=paste(modelFolder, '/', tech.name, '_', gsub(\"[^\\\\d]+\", \"\", s, perl=TRUE) ,'.RData',sep=''))\n",
    "        resultTable.aux\n",
    "    }\n",
    "\n",
    "    resultTable = data.frame(resultTable, stringsAsFactors = FALSE)\n",
    "    colnames(resultTable) = c(\"id\", \"model\", \"model.params\", \"series\", \"mddl\", \"mda\")\n",
    "    resultTable = resultTable[order(resultTable$series, as.numeric(resultTable$id)),]\n",
    "    resultTable$id = 1:nrow(resultTable)\n",
    "        \n",
    "    return(resultTable)\n",
    "}\n",
    "gridSearch = cmpfun(gridSearch.script)"
   ]
  },
  {
   "cell_type": "markdown",
   "metadata": {},
   "source": [
    "---\n",
    "Fourier Decompostion\n",
    "==="
   ]
  },
  {
   "cell_type": "code",
   "execution_count": 20,
   "metadata": {
    "collapsed": true
   },
   "outputs": [],
   "source": [
    "fourierDec <- function(seriesObj, params){\n",
    "\n",
    "    freq.cutoff = unlist(params[1])\n",
    "    series      = tsObj$series\n",
    "\n",
    "    freq.cutoff = freq.cutoff\n",
    "    coeffs = fft(series)\n",
    "    mags   = coeffs[1:(length(coeffs)/2)]\n",
    "    mags   = 1+sqrt(Re(mags)^2+Im(mags)^2)\n",
    "    o.idx  = order(mags, decreasing = T)\n",
    "    idx    = (1:length(mags))[-o.idx[1:freq.cutoff]]\n",
    "        \n",
    "    coeffs[idx] = complex(real=0, imaginary=0)\n",
    "    coeffs[length(coeffs) - idx + 1] = complex(real=0, imaginary=0)\n",
    "    det = Re(fft(coeffs, inverse=T)) / length(series)\n",
    "    \n",
    "    return(det)\n",
    "}"
   ]
  },
  {
   "cell_type": "code",
   "execution_count": 21,
   "metadata": {
    "collapsed": true
   },
   "outputs": [],
   "source": [
    "#all combination of possible parameters for Fourier Algorithm\n",
    "params = expand.grid(\n",
    "  cutoff = 1:500,\n",
    "  stringsAsFactors = FALSE\n",
    ")"
   ]
  },
  {
   "cell_type": "code",
   "execution_count": 24,
   "metadata": {
    "collapsed": false
   },
   "outputs": [
    {
     "ename": "ERROR",
     "evalue": "Error in `$<-.data.frame`(`*tmp*`, \"id\", value = c(1L, 0L)): replacement has 2 rows, data has 0\n",
     "output_type": "error",
     "traceback": [
      "Error in `$<-.data.frame`(`*tmp*`, \"id\", value = c(1L, 0L)): replacement has 2 rows, data has 0\nTraceback:\n",
      "1. gridSearch(fourierDec, params, seriesFile, \"Fourier\", cores)",
      "2. `$<-`(`*tmp*`, \"id\", value = c(1L, 0L))   # at line 1-61 of file <text>",
      "3. `$<-.data.frame`(`*tmp*`, \"id\", value = c(1L, 0L))   # at line 1-61 of file <text>",
      "4. stop(sprintf(ngettext(N, \"replacement has %d row, data has %d\", \n .     \"replacement has %d rows, data has %d\"), N, nrows), domain = NA)"
     ]
    }
   ],
   "source": [
    "resultTable = gridSearch(fourierDec, params, seriesFile, 'Fourier', cores)"
   ]
  },
  {
   "cell_type": "code",
   "execution_count": null,
   "metadata": {
    "collapsed": false
   },
   "outputs": [],
   "source": [
    "write.csv(resultTable, file=paste(resultFolder,'/fourier.csv', sep=''), row.names=FALSE)"
   ]
  },
  {
   "cell_type": "markdown",
   "metadata": {
    "collapsed": true
   },
   "source": [
    "---\n",
    "Wavelets Decompostion\n",
    "==="
   ]
  },
  {
   "cell_type": "code",
   "execution_count": null,
   "metadata": {
    "collapsed": true
   },
   "outputs": [],
   "source": [
    "waveletDec.script <- function(seriesObj, params){\n",
    "\n",
    "    filter   = unlist(params[1])\n",
    "    n.levels = unlist(params[2])\n",
    "    boundary = unlist(params[3])\n",
    "    series   = seriesObj$series\n",
    "\n",
    "    r.wavelet = wavelets::dwt(series,\n",
    "                            filter = filter,\n",
    "                            n.levels=n.levels,\n",
    "                            boundary=boundary,\n",
    "                            fast=TRUE)\n",
    "    for (i in 1:length(r.wavelet@W)) {\n",
    "        r.wavelet@W[[i]] = cbind(rep(0, length(r.wavelet@W[[i]])))\n",
    "    }\n",
    "    det = wavelets::idwt(r.wavelet)\n",
    "    return(det)\n",
    "}\n",
    "waveletDec = cmpfun(waveletDec.script)"
   ]
  },
  {
   "cell_type": "code",
   "execution_count": null,
   "metadata": {
    "collapsed": true
   },
   "outputs": [],
   "source": [
    "#all combination of possible parameters for wavelets Algorithm\n",
    "params = expand.grid(\n",
    "  filters = c(\"d2\", \"d4\", \"d6\", \"d8\", \"d10\", \"d12\", \"d14\", \"d16\", \"d18\", \"d20\",#Daubechies\n",
    "              \"la8\", \"la10\", \"la12\", \"la14\", \"la16\", \"la18\", \"la20\", #Least Asymetric\n",
    "              \"bl14\", \"bl18\", \"bl20\", #Best Localized\n",
    "              \"c6\", \"c12\", \"c18\", \"c24\", \"c30\"), #Coiflet\n",
    "  n.levels = 1:50,\n",
    "  boundarys = c(\"periodic\",\"reflection\"),\n",
    "  stringsAsFactors = FALSE\n",
    ")"
   ]
  },
  {
   "cell_type": "code",
   "execution_count": null,
   "metadata": {
    "collapsed": false
   },
   "outputs": [],
   "source": [
    "resultTable = gridSearch(waveletDec, params, seriesFile, 'Wavelets', cores)"
   ]
  },
  {
   "cell_type": "code",
   "execution_count": null,
   "metadata": {
    "collapsed": true
   },
   "outputs": [],
   "source": [
    "write.csv(resultTable, file=paste(resultFolder,'/wavelets.csv', sep=''))"
   ]
  },
  {
   "cell_type": "markdown",
   "metadata": {},
   "source": [
    "---\n",
    "SSA Decomposition\n",
    "==="
   ]
  },
  {
   "cell_type": "code",
   "execution_count": null,
   "metadata": {
    "collapsed": true
   },
   "outputs": [],
   "source": [
    "ssaDec.script <- function(seriesObj, params){\n",
    "\n",
    "    L        = unlist(params[1])\n",
    "    neig     = unlist(params[2])\n",
    "    kind     = unlist(params[3])\n",
    "    circular = unlist(params[4])\n",
    "    series   = seriesObj$series\n",
    "\n",
    "    #execute\n",
    "    s = ssa(series, L=L, neig=neig, kind=kind, circular=circular)\n",
    "    r = reconstruct(s, groups = seq(1:(L/2)))\n",
    "\n",
    "    #mutual information to separate deterministic components\n",
    "    mi = c()\n",
    "    for(i in 1:(length(r)-1)) \n",
    "        mi = c(mi, FNN::mutinfo(r[[i]], r[[i+1]]))\n",
    "    \n",
    "    det.idx = which.max(abs(diff(mi))) + 1\n",
    "    \n",
    "    #sum det. comp.\n",
    "    detComp = rep(0, length(r[[1]]))\n",
    "    for(i in 1:det.idx) \n",
    "        detComp = detComp + r[[i]]\n",
    "\n",
    "    return(detComp)\n",
    "}\n",
    "ssaDec = cmpfun(ssaDec.script)"
   ]
  },
  {
   "cell_type": "code",
   "execution_count": null,
   "metadata": {
    "collapsed": false
   },
   "outputs": [],
   "source": [
    "#all combination of possible parameters for wavelets Algorithm\n",
    "params = expand.grid(\n",
    "  L = 1:500,\n",
    "  neig = 1:500,\n",
    "  kind = c('1d-ssa', 'toeplitz-ssa', 'mssa', 'cssa', 'cssa', '2d-ssa', 'nd-ssa'),\n",
    "  circular = c(TRUE, FALSE),\n",
    "  stringsAsFactors = FALSE\n",
    ")"
   ]
  },
  {
   "cell_type": "code",
   "execution_count": null,
   "metadata": {
    "collapsed": false
   },
   "outputs": [],
   "source": [
    "resultTable = gridSearch(ssaDec, params, seriesFile, 'SSA', cores)"
   ]
  },
  {
   "cell_type": "code",
   "execution_count": null,
   "metadata": {
    "collapsed": true
   },
   "outputs": [],
   "source": [
    "write.csv(resultTable, file=paste(resultFolder,'/ssa.csv', sep=''))"
   ]
  },
  {
   "cell_type": "markdown",
   "metadata": {},
   "source": [
    "---\n",
    "EMD-RP Decomposition\n",
    "==="
   ]
  },
  {
   "cell_type": "code",
   "execution_count": null,
   "metadata": {
    "collapsed": true
   },
   "outputs": [],
   "source": [
    "emdrpDec   <- function(seriesObj, params){\n",
    "  detlevel = params[1]\n",
    "  thresh   = params[2]\n",
    "  delay    = seriesObj$det.sepDim + params[3]\n",
    "  embedded = seriesObj$det.embDim + params[4]\n",
    "  series   = seriesObj$series\n",
    "  emdrp    = rpemdDecomposition(series, detlevel, thresh, delay, embedded)\n",
    "  return(emdrp@deterministic)\n",
    "}"
   ]
  },
  {
   "cell_type": "code",
   "execution_count": null,
   "metadata": {
    "collapsed": true
   },
   "outputs": [],
   "source": [
    "params = expand.grid(\n",
    "  detlevel = seq(0.01, 0.99, by=0.01),\n",
    "  thresh   = seq(0.01, 0.99, by=0.01),\n",
    "  delay    = 1:5,\n",
    "  embedded = 1:5,\n",
    "  stringsAsFactors = FALSE\n",
    ")"
   ]
  },
  {
   "cell_type": "code",
   "execution_count": null,
   "metadata": {
    "collapsed": false
   },
   "outputs": [],
   "source": [
    "resultTable = gridSearch(emdrpDec, params, seriesFile, 'EMDRP', cores)"
   ]
  },
  {
   "cell_type": "code",
   "execution_count": null,
   "metadata": {
    "collapsed": true
   },
   "outputs": [],
   "source": [
    "write.csv(resultTable, file=paste(resultFolder,'/emdrp.csv', sep=''))"
   ]
  },
  {
   "cell_type": "markdown",
   "metadata": {},
   "source": [
    "---\n",
    "EMD-MI Decomposition\n",
    "==="
   ]
  },
  {
   "cell_type": "code",
   "execution_count": null,
   "metadata": {
    "collapsed": true
   },
   "outputs": [],
   "source": [
    "emdmiDec <- function(seriesObj, params){\n",
    "    series = seriesObj$series\n",
    "    r.emd  = emd(series)\n",
    "    mags   = c();\n",
    "    for(i in 1 : r.emd$nimf){\n",
    "        fft  = fft(r.emd$imf[,i])\n",
    "        mags = cbind(mags,atan(Im(fft)/Re(fft)))\n",
    "    }\n",
    "    fft  = fft(r.emd$residue)\n",
    "    mags = cbind(mags,atan(Im(fft)/Re(fft)))\n",
    "\n",
    "    mi = c()\n",
    "    for(i in 1 : r.emd$nimf){\n",
    "        mi = c(mi, FNN::mutinfo(mags[,i], mags[,i+1]))\n",
    "    }\n",
    "\n",
    "    l   = which.max(abs(diff(mi))) + 1\n",
    "    det = rowSums(r.emd$imf[,(l):r.emd$nimf]) + r.emd$residue\n",
    "    return(det)\n",
    "}"
   ]
  },
  {
   "cell_type": "code",
   "execution_count": null,
   "metadata": {
    "collapsed": true
   },
   "outputs": [],
   "source": [
    "params = expand.grid()"
   ]
  },
  {
   "cell_type": "code",
   "execution_count": null,
   "metadata": {
    "collapsed": false
   },
   "outputs": [],
   "source": [
    "resultTable = gridSearch(emdmiDec, params, seriesFile, 'EMDMI', cores)"
   ]
  },
  {
   "cell_type": "code",
   "execution_count": null,
   "metadata": {
    "collapsed": true
   },
   "outputs": [],
   "source": [
    "write.csv(resultTable, file=paste(resultFolder,'/emdmi.csv', sep=''))"
   ]
  },
  {
   "cell_type": "code",
   "execution_count": null,
   "metadata": {
    "collapsed": true
   },
   "outputs": [],
   "source": []
  }
 ],
 "metadata": {
  "anaconda-cloud": {},
  "kernelspec": {
   "display_name": "R",
   "language": "R",
   "name": "ir"
  },
  "language_info": {
   "codemirror_mode": "r",
   "file_extension": ".r",
   "mimetype": "text/x-r-source",
   "name": "R",
   "pygments_lexer": "r",
   "version": "3.3.2"
  }
 },
 "nbformat": 4,
 "nbformat_minor": 2
}
