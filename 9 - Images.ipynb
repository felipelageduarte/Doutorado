{
 "cells": [
  {
   "cell_type": "code",
   "execution_count": 2,
   "metadata": {
    "collapsed": false
   },
   "outputs": [],
   "source": [
    "require(RTisean);\n",
    "require(EMD);\n",
    "require(tseriesChaos);\n",
    "require(rgl);\n",
    "require(fNonlinear);\n",
    "require(TSDecomposition);\n",
    "require(corrplot);\n",
    "require(nonlinearTseries);"
   ]
  },
  {
   "cell_type": "code",
   "execution_count": 3,
   "metadata": {
    "collapsed": true
   },
   "outputs": [],
   "source": [
    "imagesFolder = 'images'"
   ]
  },
  {
   "cell_type": "markdown",
   "metadata": {},
   "source": [
    "Time Series Components Example\n",
    "==="
   ]
  },
  {
   "cell_type": "code",
   "execution_count": 4,
   "metadata": {
    "collapsed": true
   },
   "outputs": [],
   "source": [
    "stochastic    = rnorm(mean=0, sd=0.2, n=200);\n",
    "deterministic = logistic(iter=200, r=3.8, x=0.5);\n",
    "series = deterministic + stochastic;"
   ]
  },
  {
   "cell_type": "code",
   "execution_count": 6,
   "metadata": {
    "collapsed": false
   },
   "outputs": [
    {
     "data": {
      "text/html": [
       "<strong>pdf:</strong> 2"
      ],
      "text/latex": [
       "\\textbf{pdf:} 2"
      ],
      "text/markdown": [
       "**pdf:** 2"
      ],
      "text/plain": [
       "pdf \n",
       "  2 "
      ]
     },
     "metadata": {},
     "output_type": "display_data"
    }
   ],
   "source": [
    "svg(paste(imagesFolder,\"deterministicComponent.svg\", sep='/'), 16, 5)\n",
    "    plot(deterministic, t=\"l\", axes = F, xlab=\"\", ylab=\"\")\n",
    "    title(sub=\"\", xlab=\"Time\", ylab=\"Observations\", cex.lab=1.5, cex.sub=1.5) \n",
    "    axis(1, cex.axis=1.5)\n",
    "    axis(2, cex.axis=1.5)\n",
    "    box()\n",
    "dev.off()"
   ]
  },
  {
   "cell_type": "markdown",
   "metadata": {},
   "source": [
    "<img src=\"images/deterministicComponent.svg\">"
   ]
  },
  {
   "cell_type": "code",
   "execution_count": 7,
   "metadata": {
    "collapsed": false
   },
   "outputs": [
    {
     "data": {
      "text/html": [
       "<strong>pdf:</strong> 2"
      ],
      "text/latex": [
       "\\textbf{pdf:} 2"
      ],
      "text/markdown": [
       "**pdf:** 2"
      ],
      "text/plain": [
       "pdf \n",
       "  2 "
      ]
     },
     "metadata": {},
     "output_type": "display_data"
    }
   ],
   "source": [
    "svg(paste(imagesFolder,\"stochasticComponent.svg\", sep='/'), 16, 5)\n",
    "    plot(stochastic, t=\"l\", axes = F, xlab=\"\", ylab=\"\")\n",
    "    title(sub=\"\", xlab=\"Time\", ylab=\"Observations\", cex.lab=1.5, cex.sub=1.5) \n",
    "    axis(1, cex.axis=1.5)\n",
    "    axis(2, cex.axis=1.5)\n",
    "    box()\n",
    "dev.off()"
   ]
  },
  {
   "cell_type": "markdown",
   "metadata": {},
   "source": [
    "<img src=\"images/stochasticComponent.svg\">"
   ]
  },
  {
   "cell_type": "code",
   "execution_count": 8,
   "metadata": {
    "collapsed": false
   },
   "outputs": [
    {
     "data": {
      "text/html": [
       "<strong>pdf:</strong> 2"
      ],
      "text/latex": [
       "\\textbf{pdf:} 2"
      ],
      "text/markdown": [
       "**pdf:** 2"
      ],
      "text/plain": [
       "pdf \n",
       "  2 "
      ]
     },
     "metadata": {},
     "output_type": "display_data"
    }
   ],
   "source": [
    "svg(paste(imagesFolder,\"series.svg\", sep='/'), 16, 5)\n",
    "    plot(series, t=\"l\", axes = F, xlab=\"\", ylab=\"\")\n",
    "    title(sub=\"\", xlab=\"Time\", ylab=\"Observations\", cex.lab=1.5, cex.sub=1.5) \n",
    "    axis(1, cex.axis=1.5)\n",
    "    axis(2, cex.axis=1.5)\n",
    "    box()\n",
    "dev.off()"
   ]
  },
  {
   "cell_type": "markdown",
   "metadata": {},
   "source": [
    "<img src=\"images/series.svg\">"
   ]
  },
  {
   "cell_type": "markdown",
   "metadata": {},
   "source": [
    "Stochastic influence over phase space\n",
    "==="
   ]
  },
  {
   "cell_type": "code",
   "execution_count": 13,
   "metadata": {
    "collapsed": false
   },
   "outputs": [
    {
     "data": {
      "text/html": [
       "<strong>pdf:</strong> 2"
      ],
      "text/latex": [
       "\\textbf{pdf:} 2"
      ],
      "text/markdown": [
       "**pdf:** 2"
      ],
      "text/plain": [
       "pdf \n",
       "  2 "
      ]
     },
     "metadata": {},
     "output_type": "display_data"
    }
   ],
   "source": [
    "svg(paste(imagesFolder,\"deterministicPhaseSpace.svg\", sep='/'), 10, 10)\n",
    "    plot(embedd(deterministic, m=2, d=1), t=\"p\", axes = F, xlab=\"\", ylab=\"\")\n",
    "    title(sub=\"\", xlab=\"x(t)\", ylab=\"x(t-1)\", cex.lab=1.5, cex.sub=1.5) \n",
    "    axis(1, cex.axis=1.5)\n",
    "    axis(2, cex.axis=1.5)\n",
    "    box()\n",
    "dev.off()"
   ]
  },
  {
   "cell_type": "markdown",
   "metadata": {},
   "source": [
    "<img src=\"images/deterministicPhaseSpace.svg\" width=500>"
   ]
  },
  {
   "cell_type": "code",
   "execution_count": null,
   "metadata": {
    "collapsed": true
   },
   "outputs": [],
   "source": []
  }
 ],
 "metadata": {
  "kernelspec": {
   "display_name": "R",
   "language": "R",
   "name": "ir"
  },
  "language_info": {
   "codemirror_mode": "r",
   "file_extension": ".r",
   "mimetype": "text/x-r-source",
   "name": "R",
   "pygments_lexer": "r",
   "version": "3.2.3"
  }
 },
 "nbformat": 4,
 "nbformat_minor": 1
}
