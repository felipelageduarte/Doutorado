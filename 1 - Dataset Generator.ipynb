{
 "cells": [
  {
   "cell_type": "markdown",
   "metadata": {},
   "source": [
    "----\n",
    "Felipe Simões Lage Gomes Duarte\n",
    "\n",
    "Rodrigo Fernandes de Mello\n",
    "\n",
    "----\n",
    "\n",
    "Dataset Generator\n",
    "==="
   ]
  },
  {
   "cell_type": "code",
   "execution_count": 2,
   "metadata": {
    "collapsed": false
   },
   "outputs": [],
   "source": [
    "#Include required Librarys\n",
    "require(fNonlinear)\n",
    "require(tseriesChaos)\n",
    "require(nonlinearTseries)"
   ]
  },
  {
   "cell_type": "markdown",
   "metadata": {},
   "source": [
    "Parameters"
   ]
  },
  {
   "cell_type": "code",
   "execution_count": 3,
   "metadata": {
    "collapsed": true
   },
   "outputs": [],
   "source": [
    "series.size = 1000\n",
    "result.folder = 'data'"
   ]
  },
  {
   "cell_type": "markdown",
   "metadata": {},
   "source": [
    "Auxiliar Functions"
   ]
  },
  {
   "cell_type": "code",
   "execution_count": 4,
   "metadata": {
    "collapsed": true
   },
   "outputs": [],
   "source": [
    "normalize <- function(values, a = -1, b = 1){\n",
    "  max = max(values)\n",
    "  min = min(values)\n",
    "  return( a + (((values - min)*(b - a))/(max - min)) )\n",
    "}"
   ]
  },
  {
   "cell_type": "code",
   "execution_count": 5,
   "metadata": {
    "collapsed": false
   },
   "outputs": [],
   "source": [
    "getDeterministicSeries <- function(comp, size = 1000){\n",
    "  if(missing(comp)){\n",
    "    stop(\"You must select one of those options for deterministic component: sine, lorenz, rossler, logistic or henon\")\n",
    "  }\n",
    "\n",
    "  if(tolower(comp) == 'sine'){\n",
    "    return(list( det.series = normalize(sin(2*pi*seq(0,9,len=size))),\n",
    "                 det.sepDim = 5,\n",
    "                 det.embDim = 2,\n",
    "                 det.model  = \"sine\" ,\n",
    "                 det.length = size)\n",
    "           )\n",
    "  } else if(tolower(comp) == 'lorenz') {\n",
    "    return(\n",
    "      list(det.series = normalize(lorentzSim(doplot = FALSE,\n",
    "                            times  = seq(0, 50, by = (50/size)),\n",
    "                            parms  = c(sigma = 16, r = 45.92, b = 4),\n",
    "                            start  = c(-14, -13, 47)\n",
    "      )[,2][1:size]),\n",
    "      det.sepDim = 1,\n",
    "      det.embDim = 3,\n",
    "      det.model  = \"lorenz\",\n",
    "      det.length = size)\n",
    "    )\n",
    "  } else if(tolower(comp) == 'rossler') {\n",
    "      return(\n",
    "        list(det.series = normalize(sim.cont(rossler.syst,\n",
    "                            start.time=0,\n",
    "                            end.time=650,\n",
    "                            dt=650/size,\n",
    "                            start.x=c(0,0,0),\n",
    "                            parms=c(0.15, 0.2, 10))[1:size]),\n",
    "             det.sepDim = 1,\n",
    "             det.embDim = 3,\n",
    "             det.model  = \"rossler\",\n",
    "             det.length = size)\n",
    "      )\n",
    "  } else if(tolower(comp) == 'logistic') {\n",
    "    return(\n",
    "      list(det.series = normalize(logisticSim(n=size, parms = c(r = 3.8), start = 0.5, doplot = FALSE)),\n",
    "           det.sepDim = 1,\n",
    "           det.embDim = 2,\n",
    "           det.model  = \"logistic\",\n",
    "           det.length = size)\n",
    "    )\n",
    "  } else if(tolower(comp) == 'henon') {\n",
    "    return(\n",
    "      list(det.series = normalize(nonlinearTseries::henon(\n",
    "                                start=c(-0.006423277,-0.473545134),\n",
    "                                n.sample = size,\n",
    "                                n.transient=10,\n",
    "                                do.plot=FALSE)$x[1:size]),\n",
    "           det.sepDim = 1,\n",
    "           det.embDim = 2,\n",
    "           det.model  = \"henon\",\n",
    "           det.length = size)\n",
    "    )\n",
    "  } else {\n",
    "    stop(\"You must select one of those options for deterministic component: sine, lorenz, rossler, logistic or henon\")\n",
    "  }\n",
    "}\n",
    "      "
   ]
  },
  {
   "cell_type": "code",
   "execution_count": 6,
   "metadata": {
    "collapsed": true
   },
   "outputs": [],
   "source": [
    "getStochasticSeries <- function(comp, params=list(), size = 1000){\n",
    "  set.seed(7)\n",
    "  if(missing(comp)){\n",
    "    stop(\"You must select one of those options for stochastic component: zero, uniforme or normal\")\n",
    "  }\n",
    "\n",
    "  if(tolower(comp) == 'zero'){\n",
    "    return(list( sto.series = rep(0, size),\n",
    "                 sto.model  = \"zero\" ,\n",
    "                 sto.params = list(),\n",
    "                 sto.length = size)\n",
    "    )\n",
    "  } else if(tolower(comp) == 'uniforme') {\n",
    "    min = ifelse(is.null(params$min), -1, params$min)\n",
    "    max = ifelse(is.null(params$max),  1, params$max)\n",
    "    return(list( sto.series = runif(size, min, max),\n",
    "                 sto.model  = paste(\"uniforme_\",min,\"_\",max, sep=\"\"),\n",
    "                 sto.params = list(min=min, max=max),\n",
    "                 sto.length = size)\n",
    "    )\n",
    "  } else if(tolower(comp) == 'normal') {\n",
    "    mean = ifelse(is.null(params$mean), 0, params$mean)\n",
    "    sd   = ifelse(is.null(params$sd), 1, params$sd)\n",
    "    return(list( sto.series = rnorm(size, mean=mean, sd=sd),\n",
    "                 sto.model  = paste(\"normal_\",mean,\"_\",sd, sep=\"\"),\n",
    "                 sto.params = list(mean=mean, sd=sd),\n",
    "                 sto.length = size)\n",
    "    )\n",
    "  } else {\n",
    "    stop(\"You must select one of those options for stochastic component: zero, uniforme or normal\")\n",
    "  }\n",
    "}      "
   ]
  },
  {
   "cell_type": "code",
   "execution_count": 7,
   "metadata": {
    "collapsed": true
   },
   "outputs": [],
   "source": [
    "timeSeriesFactor <- function(det.comp, sto.comp, sto.params=list(), size = 1000){\n",
    "  det = getDeterministicSeries(det.comp, size)\n",
    "  sto = getStochasticSeries(sto.comp, sto.params, size)\n",
    "  tsObj = list(series = det$det.series + sto$sto.series, size = size)\n",
    "  tsObj = c(tsObj, det, sto)\n",
    "  return(tsObj)\n",
    "}"
   ]
  },
  {
   "cell_type": "markdown",
   "metadata": {},
   "source": [
    "Create and save all sintetic dataset into RData file for future processing"
   ]
  },
  {
   "cell_type": "code",
   "execution_count": 8,
   "metadata": {
    "collapsed": true
   },
   "outputs": [],
   "source": [
    "set.seed(6426830)\n",
    "det = list(\"sine\", \"lorenz\", \"rossler\", \"logistic\", \"henon\")\n",
    "sto = list(list(comp=\"zero\"),\n",
    "         list(comp=\"uniforme\",params=list(min=-0.01, max=0.01)),\n",
    "         list(comp=\"uniforme\",params=list(min=-0.05, max=0.05)),\n",
    "         list(comp=\"uniforme\",params=list(min=-0.10, max=0.10)),\n",
    "         list(comp=\"uniforme\",params=list(min=-0.15, max=0.15)),\n",
    "         list(comp=\"uniforme\",params=list(min=-0.20, max=0.20)),\n",
    "         list(comp=\"uniforme\",params=list(min=-0.25, max=0.25)),\n",
    "         list(comp=\"normal\",params=list(sd=0.01)),\n",
    "         list(comp=\"normal\",params=list(sd=0.05)),\n",
    "         list(comp=\"normal\",params=list(sd=0.10)),\n",
    "         list(comp=\"normal\",params=list(sd=0.15)),\n",
    "         list(comp=\"normal\",params=list(sd=0.20)),\n",
    "         list(comp=\"normal\",params=list(sd=0.25))\n",
    "         )"
   ]
  },
  {
   "cell_type": "code",
   "execution_count": 9,
   "metadata": {
    "collapsed": false
   },
   "outputs": [],
   "source": [
    "idx = 1\n",
    "for(i in 1:length(det)){\n",
    "    for(j in 1:length(sto)){\n",
    "      seriesObj = timeSeriesFactor(det[[i]], sto[[j]]$comp, sto[[j]]$params, series.size)\n",
    "      save(seriesObj, file=paste(result.folder,sprintf('/series_%02d', idx),'.RData',sep=''))\n",
    "      idx = idx + 1\n",
    "    }\n",
    "}"
   ]
  }
 ],
 "metadata": {
  "kernelspec": {
   "display_name": "R",
   "language": "R",
   "name": "ir"
  },
  "language_info": {
   "codemirror_mode": "r",
   "file_extension": ".r",
   "mimetype": "text/x-r-source",
   "name": "R",
   "pygments_lexer": "r",
   "version": "3.3.2"
  }
 },
 "nbformat": 4,
 "nbformat_minor": 2
}
